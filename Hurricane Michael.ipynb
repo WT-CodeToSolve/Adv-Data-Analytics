{
 "cells": [
  {
   "cell_type": "code",
   "execution_count": 1,
   "metadata": {},
   "outputs": [],
   "source": [
    "import pandas as pd\n",
    "import geopandas as gpd\n",
    "import matplotlib.pyplot as plt\n",
    "\n",
    "from datetime import datetime\n",
    "from shapely.geometry import Point\n",
    "from geopandas.tools import geocode\n",
    "from geopandas.tools import reverse_geocode\n",
    "\n",
    "%matplotlib inline"
   ]
  },
  {
   "cell_type": "code",
   "execution_count": 3,
   "metadata": {},
   "outputs": [],
   "source": [
    "location = \"C:/Users/GBTC441002ur/Documents/Adv_DataAnalytics/datasets/hurricaneMichael.csv\""
   ]
  },
  {
   "cell_type": "code",
   "execution_count": 5,
   "metadata": {},
   "outputs": [
    {
     "data": {
      "text/html": [
       "<div>\n",
       "<style scoped>\n",
       "    .dataframe tbody tr th:only-of-type {\n",
       "        vertical-align: middle;\n",
       "    }\n",
       "\n",
       "    .dataframe tbody tr th {\n",
       "        vertical-align: top;\n",
       "    }\n",
       "\n",
       "    .dataframe thead th {\n",
       "        text-align: right;\n",
       "    }\n",
       "</style>\n",
       "<table border=\"1\" class=\"dataframe\">\n",
       "  <thead>\n",
       "    <tr style=\"text-align: right;\">\n",
       "      <th></th>\n",
       "      <th>AdvisoryNumber</th>\n",
       "      <th>Date</th>\n",
       "      <th>Lat</th>\n",
       "      <th>Long</th>\n",
       "      <th>Wind</th>\n",
       "      <th>Pres</th>\n",
       "      <th>Movement</th>\n",
       "      <th>Type</th>\n",
       "      <th>Name</th>\n",
       "      <th>Received</th>\n",
       "      <th>Forecaster</th>\n",
       "    </tr>\n",
       "  </thead>\n",
       "  <tbody>\n",
       "    <tr>\n",
       "      <th>0</th>\n",
       "      <td>1</td>\n",
       "      <td>10/6/2018 17:00</td>\n",
       "      <td>18.0</td>\n",
       "      <td>86.6</td>\n",
       "      <td>30</td>\n",
       "      <td>1006</td>\n",
       "      <td>NW at 6 MPH (325 deg)</td>\n",
       "      <td>Potential Tropical Cyclone</td>\n",
       "      <td>Fourteen</td>\n",
       "      <td>10/6/2018 16:50</td>\n",
       "      <td>Beven</td>\n",
       "    </tr>\n",
       "    <tr>\n",
       "      <th>1</th>\n",
       "      <td>1A</td>\n",
       "      <td>10/6/2018 20:00</td>\n",
       "      <td>18.3</td>\n",
       "      <td>86.6</td>\n",
       "      <td>30</td>\n",
       "      <td>1004</td>\n",
       "      <td>N at 6 MPH (360 deg)</td>\n",
       "      <td>Potential Tropical Cyclone</td>\n",
       "      <td>Fourteen</td>\n",
       "      <td>10/6/2018 19:32</td>\n",
       "      <td>Avila</td>\n",
       "    </tr>\n",
       "    <tr>\n",
       "      <th>2</th>\n",
       "      <td>2</td>\n",
       "      <td>10/6/2018 23:00</td>\n",
       "      <td>18.8</td>\n",
       "      <td>86.6</td>\n",
       "      <td>30</td>\n",
       "      <td>1004</td>\n",
       "      <td>N at 7 MPH (360 deg)</td>\n",
       "      <td>Potential Tropical Cyclone</td>\n",
       "      <td>Fourteen</td>\n",
       "      <td>10/6/2018 22:38</td>\n",
       "      <td>Avila</td>\n",
       "    </tr>\n",
       "    <tr>\n",
       "      <th>3</th>\n",
       "      <td>2A</td>\n",
       "      <td>10/7/2018 2:00</td>\n",
       "      <td>18.4</td>\n",
       "      <td>87.1</td>\n",
       "      <td>35</td>\n",
       "      <td>1004</td>\n",
       "      <td>NW at 5 MPH (320 deg)</td>\n",
       "      <td>Potential Tropical Cyclone</td>\n",
       "      <td>Fourteen</td>\n",
       "      <td>10/7/2018 1:38</td>\n",
       "      <td>Berg</td>\n",
       "    </tr>\n",
       "    <tr>\n",
       "      <th>4</th>\n",
       "      <td>3</td>\n",
       "      <td>10/7/2018 5:00</td>\n",
       "      <td>18.6</td>\n",
       "      <td>86.9</td>\n",
       "      <td>35</td>\n",
       "      <td>1004</td>\n",
       "      <td>NNW at 3 MPH (340 deg)</td>\n",
       "      <td>Tropical Depression</td>\n",
       "      <td>FOURTEEN</td>\n",
       "      <td>10/7/2018 4:53</td>\n",
       "      <td>Berg</td>\n",
       "    </tr>\n",
       "  </tbody>\n",
       "</table>\n",
       "</div>"
      ],
      "text/plain": [
       "  AdvisoryNumber             Date   Lat  Long  Wind  Pres  \\\n",
       "0              1  10/6/2018 17:00  18.0  86.6    30  1006   \n",
       "1             1A  10/6/2018 20:00  18.3  86.6    30  1004   \n",
       "2              2  10/6/2018 23:00  18.8  86.6    30  1004   \n",
       "3             2A   10/7/2018 2:00  18.4  87.1    35  1004   \n",
       "4              3   10/7/2018 5:00  18.6  86.9    35  1004   \n",
       "\n",
       "                 Movement                        Type      Name  \\\n",
       "0   NW at 6 MPH (325 deg)  Potential Tropical Cyclone  Fourteen   \n",
       "1    N at 6 MPH (360 deg)  Potential Tropical Cyclone  Fourteen   \n",
       "2    N at 7 MPH (360 deg)  Potential Tropical Cyclone  Fourteen   \n",
       "3   NW at 5 MPH (320 deg)  Potential Tropical Cyclone  Fourteen   \n",
       "4  NNW at 3 MPH (340 deg)         Tropical Depression  FOURTEEN   \n",
       "\n",
       "          Received Forecaster  \n",
       "0  10/6/2018 16:50      Beven  \n",
       "1  10/6/2018 19:32      Avila  \n",
       "2  10/6/2018 22:38      Avila  \n",
       "3   10/7/2018 1:38       Berg  \n",
       "4   10/7/2018 4:53       Berg  "
      ]
     },
     "execution_count": 5,
     "metadata": {},
     "output_type": "execute_result"
    }
   ],
   "source": [
    "HM_df = pd.read_csv(location, sep=\",\")\n",
    "HM_df.head()"
   ]
  },
  {
   "cell_type": "code",
   "execution_count": 6,
   "metadata": {},
   "outputs": [],
   "source": [
    "HM_df['Long'] = 0 - HM_df['Long']"
   ]
  },
  {
   "cell_type": "code",
   "execution_count": 7,
   "metadata": {},
   "outputs": [
    {
     "data": {
      "text/html": [
       "<div>\n",
       "<style scoped>\n",
       "    .dataframe tbody tr th:only-of-type {\n",
       "        vertical-align: middle;\n",
       "    }\n",
       "\n",
       "    .dataframe tbody tr th {\n",
       "        vertical-align: top;\n",
       "    }\n",
       "\n",
       "    .dataframe thead th {\n",
       "        text-align: right;\n",
       "    }\n",
       "</style>\n",
       "<table border=\"1\" class=\"dataframe\">\n",
       "  <thead>\n",
       "    <tr style=\"text-align: right;\">\n",
       "      <th></th>\n",
       "      <th>AdvisoryNumber</th>\n",
       "      <th>Date</th>\n",
       "      <th>Lat</th>\n",
       "      <th>Long</th>\n",
       "      <th>Wind</th>\n",
       "      <th>Pres</th>\n",
       "      <th>Movement</th>\n",
       "      <th>Type</th>\n",
       "      <th>Name</th>\n",
       "      <th>Received</th>\n",
       "      <th>Forecaster</th>\n",
       "    </tr>\n",
       "  </thead>\n",
       "  <tbody>\n",
       "    <tr>\n",
       "      <th>0</th>\n",
       "      <td>1</td>\n",
       "      <td>10/6/2018 17:00</td>\n",
       "      <td>18.0</td>\n",
       "      <td>-86.6</td>\n",
       "      <td>30</td>\n",
       "      <td>1006</td>\n",
       "      <td>NW at 6 MPH (325 deg)</td>\n",
       "      <td>Potential Tropical Cyclone</td>\n",
       "      <td>Fourteen</td>\n",
       "      <td>10/6/2018 16:50</td>\n",
       "      <td>Beven</td>\n",
       "    </tr>\n",
       "    <tr>\n",
       "      <th>1</th>\n",
       "      <td>1A</td>\n",
       "      <td>10/6/2018 20:00</td>\n",
       "      <td>18.3</td>\n",
       "      <td>-86.6</td>\n",
       "      <td>30</td>\n",
       "      <td>1004</td>\n",
       "      <td>N at 6 MPH (360 deg)</td>\n",
       "      <td>Potential Tropical Cyclone</td>\n",
       "      <td>Fourteen</td>\n",
       "      <td>10/6/2018 19:32</td>\n",
       "      <td>Avila</td>\n",
       "    </tr>\n",
       "    <tr>\n",
       "      <th>2</th>\n",
       "      <td>2</td>\n",
       "      <td>10/6/2018 23:00</td>\n",
       "      <td>18.8</td>\n",
       "      <td>-86.6</td>\n",
       "      <td>30</td>\n",
       "      <td>1004</td>\n",
       "      <td>N at 7 MPH (360 deg)</td>\n",
       "      <td>Potential Tropical Cyclone</td>\n",
       "      <td>Fourteen</td>\n",
       "      <td>10/6/2018 22:38</td>\n",
       "      <td>Avila</td>\n",
       "    </tr>\n",
       "    <tr>\n",
       "      <th>3</th>\n",
       "      <td>2A</td>\n",
       "      <td>10/7/2018 2:00</td>\n",
       "      <td>18.4</td>\n",
       "      <td>-87.1</td>\n",
       "      <td>35</td>\n",
       "      <td>1004</td>\n",
       "      <td>NW at 5 MPH (320 deg)</td>\n",
       "      <td>Potential Tropical Cyclone</td>\n",
       "      <td>Fourteen</td>\n",
       "      <td>10/7/2018 1:38</td>\n",
       "      <td>Berg</td>\n",
       "    </tr>\n",
       "    <tr>\n",
       "      <th>4</th>\n",
       "      <td>3</td>\n",
       "      <td>10/7/2018 5:00</td>\n",
       "      <td>18.6</td>\n",
       "      <td>-86.9</td>\n",
       "      <td>35</td>\n",
       "      <td>1004</td>\n",
       "      <td>NNW at 3 MPH (340 deg)</td>\n",
       "      <td>Tropical Depression</td>\n",
       "      <td>FOURTEEN</td>\n",
       "      <td>10/7/2018 4:53</td>\n",
       "      <td>Berg</td>\n",
       "    </tr>\n",
       "  </tbody>\n",
       "</table>\n",
       "</div>"
      ],
      "text/plain": [
       "  AdvisoryNumber             Date   Lat  Long  Wind  Pres  \\\n",
       "0              1  10/6/2018 17:00  18.0 -86.6    30  1006   \n",
       "1             1A  10/6/2018 20:00  18.3 -86.6    30  1004   \n",
       "2              2  10/6/2018 23:00  18.8 -86.6    30  1004   \n",
       "3             2A   10/7/2018 2:00  18.4 -87.1    35  1004   \n",
       "4              3   10/7/2018 5:00  18.6 -86.9    35  1004   \n",
       "\n",
       "                 Movement                        Type      Name  \\\n",
       "0   NW at 6 MPH (325 deg)  Potential Tropical Cyclone  Fourteen   \n",
       "1    N at 6 MPH (360 deg)  Potential Tropical Cyclone  Fourteen   \n",
       "2    N at 7 MPH (360 deg)  Potential Tropical Cyclone  Fourteen   \n",
       "3   NW at 5 MPH (320 deg)  Potential Tropical Cyclone  Fourteen   \n",
       "4  NNW at 3 MPH (340 deg)         Tropical Depression  FOURTEEN   \n",
       "\n",
       "          Received Forecaster  \n",
       "0  10/6/2018 16:50      Beven  \n",
       "1  10/6/2018 19:32      Avila  \n",
       "2  10/6/2018 22:38      Avila  \n",
       "3   10/7/2018 1:38       Berg  \n",
       "4   10/7/2018 4:53       Berg  "
      ]
     },
     "execution_count": 7,
     "metadata": {},
     "output_type": "execute_result"
    }
   ],
   "source": [
    "HM_df.head()"
   ]
  },
  {
   "cell_type": "code",
   "execution_count": 8,
   "metadata": {},
   "outputs": [
    {
     "data": {
      "text/plain": [
       "AdvisoryNumber     object\n",
       "Date               object\n",
       "Lat               float64\n",
       "Long              float64\n",
       "Wind                int64\n",
       "Pres                int64\n",
       "Movement           object\n",
       "Type               object\n",
       "Name               object\n",
       "Received           object\n",
       "Forecaster         object\n",
       "dtype: object"
      ]
     },
     "execution_count": 8,
     "metadata": {},
     "output_type": "execute_result"
    }
   ],
   "source": [
    "HM_df.dtypes"
   ]
  },
  {
   "cell_type": "code",
   "execution_count": 9,
   "metadata": {},
   "outputs": [
    {
     "data": {
      "text/plain": [
       "AdvisoryNumber    45\n",
       "Date              45\n",
       "Lat               45\n",
       "Long              45\n",
       "Wind              45\n",
       "Pres              45\n",
       "Movement          45\n",
       "Type              45\n",
       "Name              45\n",
       "Received          45\n",
       "Forecaster        45\n",
       "dtype: int64"
      ]
     },
     "execution_count": 9,
     "metadata": {},
     "output_type": "execute_result"
    }
   ],
   "source": [
    "HM_df.count()"
   ]
  },
  {
   "cell_type": "code",
   "execution_count": 11,
   "metadata": {},
   "outputs": [],
   "source": [
    "# make a new col to hold the longitude & latitude as a list\n",
    "HM_df['coordinates'] = list(HM_df[['Long','Lat']].values)"
   ]
  },
  {
   "cell_type": "code",
   "execution_count": 12,
   "metadata": {},
   "outputs": [
    {
     "data": {
      "text/html": [
       "<div>\n",
       "<style scoped>\n",
       "    .dataframe tbody tr th:only-of-type {\n",
       "        vertical-align: middle;\n",
       "    }\n",
       "\n",
       "    .dataframe tbody tr th {\n",
       "        vertical-align: top;\n",
       "    }\n",
       "\n",
       "    .dataframe thead th {\n",
       "        text-align: right;\n",
       "    }\n",
       "</style>\n",
       "<table border=\"1\" class=\"dataframe\">\n",
       "  <thead>\n",
       "    <tr style=\"text-align: right;\">\n",
       "      <th></th>\n",
       "      <th>AdvisoryNumber</th>\n",
       "      <th>Date</th>\n",
       "      <th>Lat</th>\n",
       "      <th>Long</th>\n",
       "      <th>Wind</th>\n",
       "      <th>Pres</th>\n",
       "      <th>Movement</th>\n",
       "      <th>Type</th>\n",
       "      <th>Name</th>\n",
       "      <th>Received</th>\n",
       "      <th>Forecaster</th>\n",
       "      <th>coordinates</th>\n",
       "    </tr>\n",
       "  </thead>\n",
       "  <tbody>\n",
       "    <tr>\n",
       "      <th>0</th>\n",
       "      <td>1</td>\n",
       "      <td>10/6/2018 17:00</td>\n",
       "      <td>18.0</td>\n",
       "      <td>-86.6</td>\n",
       "      <td>30</td>\n",
       "      <td>1006</td>\n",
       "      <td>NW at 6 MPH (325 deg)</td>\n",
       "      <td>Potential Tropical Cyclone</td>\n",
       "      <td>Fourteen</td>\n",
       "      <td>10/6/2018 16:50</td>\n",
       "      <td>Beven</td>\n",
       "      <td>[-86.6, 18.0]</td>\n",
       "    </tr>\n",
       "    <tr>\n",
       "      <th>1</th>\n",
       "      <td>1A</td>\n",
       "      <td>10/6/2018 20:00</td>\n",
       "      <td>18.3</td>\n",
       "      <td>-86.6</td>\n",
       "      <td>30</td>\n",
       "      <td>1004</td>\n",
       "      <td>N at 6 MPH (360 deg)</td>\n",
       "      <td>Potential Tropical Cyclone</td>\n",
       "      <td>Fourteen</td>\n",
       "      <td>10/6/2018 19:32</td>\n",
       "      <td>Avila</td>\n",
       "      <td>[-86.6, 18.3]</td>\n",
       "    </tr>\n",
       "    <tr>\n",
       "      <th>2</th>\n",
       "      <td>2</td>\n",
       "      <td>10/6/2018 23:00</td>\n",
       "      <td>18.8</td>\n",
       "      <td>-86.6</td>\n",
       "      <td>30</td>\n",
       "      <td>1004</td>\n",
       "      <td>N at 7 MPH (360 deg)</td>\n",
       "      <td>Potential Tropical Cyclone</td>\n",
       "      <td>Fourteen</td>\n",
       "      <td>10/6/2018 22:38</td>\n",
       "      <td>Avila</td>\n",
       "      <td>[-86.6, 18.8]</td>\n",
       "    </tr>\n",
       "    <tr>\n",
       "      <th>3</th>\n",
       "      <td>2A</td>\n",
       "      <td>10/7/2018 2:00</td>\n",
       "      <td>18.4</td>\n",
       "      <td>-87.1</td>\n",
       "      <td>35</td>\n",
       "      <td>1004</td>\n",
       "      <td>NW at 5 MPH (320 deg)</td>\n",
       "      <td>Potential Tropical Cyclone</td>\n",
       "      <td>Fourteen</td>\n",
       "      <td>10/7/2018 1:38</td>\n",
       "      <td>Berg</td>\n",
       "      <td>[-87.1, 18.4]</td>\n",
       "    </tr>\n",
       "    <tr>\n",
       "      <th>4</th>\n",
       "      <td>3</td>\n",
       "      <td>10/7/2018 5:00</td>\n",
       "      <td>18.6</td>\n",
       "      <td>-86.9</td>\n",
       "      <td>35</td>\n",
       "      <td>1004</td>\n",
       "      <td>NNW at 3 MPH (340 deg)</td>\n",
       "      <td>Tropical Depression</td>\n",
       "      <td>FOURTEEN</td>\n",
       "      <td>10/7/2018 4:53</td>\n",
       "      <td>Berg</td>\n",
       "      <td>[-86.9, 18.6]</td>\n",
       "    </tr>\n",
       "  </tbody>\n",
       "</table>\n",
       "</div>"
      ],
      "text/plain": [
       "  AdvisoryNumber             Date   Lat  Long  Wind  Pres  \\\n",
       "0              1  10/6/2018 17:00  18.0 -86.6    30  1006   \n",
       "1             1A  10/6/2018 20:00  18.3 -86.6    30  1004   \n",
       "2              2  10/6/2018 23:00  18.8 -86.6    30  1004   \n",
       "3             2A   10/7/2018 2:00  18.4 -87.1    35  1004   \n",
       "4              3   10/7/2018 5:00  18.6 -86.9    35  1004   \n",
       "\n",
       "                 Movement                        Type      Name  \\\n",
       "0   NW at 6 MPH (325 deg)  Potential Tropical Cyclone  Fourteen   \n",
       "1    N at 6 MPH (360 deg)  Potential Tropical Cyclone  Fourteen   \n",
       "2    N at 7 MPH (360 deg)  Potential Tropical Cyclone  Fourteen   \n",
       "3   NW at 5 MPH (320 deg)  Potential Tropical Cyclone  Fourteen   \n",
       "4  NNW at 3 MPH (340 deg)         Tropical Depression  FOURTEEN   \n",
       "\n",
       "          Received Forecaster    coordinates  \n",
       "0  10/6/2018 16:50      Beven  [-86.6, 18.0]  \n",
       "1  10/6/2018 19:32      Avila  [-86.6, 18.3]  \n",
       "2  10/6/2018 22:38      Avila  [-86.6, 18.8]  \n",
       "3   10/7/2018 1:38       Berg  [-87.1, 18.4]  \n",
       "4   10/7/2018 4:53       Berg  [-86.9, 18.6]  "
      ]
     },
     "execution_count": 12,
     "metadata": {},
     "output_type": "execute_result"
    }
   ],
   "source": [
    "HM_df.head()"
   ]
  },
  {
   "cell_type": "code",
   "execution_count": 13,
   "metadata": {},
   "outputs": [
    {
     "data": {
      "text/plain": [
       "dtype('O')"
      ]
     },
     "execution_count": 13,
     "metadata": {},
     "output_type": "execute_result"
    }
   ],
   "source": [
    "HM_df['coordinates'].dtypes"
   ]
  },
  {
   "cell_type": "code",
   "execution_count": 14,
   "metadata": {},
   "outputs": [],
   "source": [
    "#convert the coordinates to a geolocation type\n",
    "HM_df['coordinates'] = HM_df['coordinates'].apply(Point)"
   ]
  },
  {
   "cell_type": "code",
   "execution_count": 15,
   "metadata": {},
   "outputs": [
    {
     "data": {
      "text/html": [
       "<div>\n",
       "<style scoped>\n",
       "    .dataframe tbody tr th:only-of-type {\n",
       "        vertical-align: middle;\n",
       "    }\n",
       "\n",
       "    .dataframe tbody tr th {\n",
       "        vertical-align: top;\n",
       "    }\n",
       "\n",
       "    .dataframe thead th {\n",
       "        text-align: right;\n",
       "    }\n",
       "</style>\n",
       "<table border=\"1\" class=\"dataframe\">\n",
       "  <thead>\n",
       "    <tr style=\"text-align: right;\">\n",
       "      <th></th>\n",
       "      <th>AdvisoryNumber</th>\n",
       "      <th>Date</th>\n",
       "      <th>Lat</th>\n",
       "      <th>Long</th>\n",
       "      <th>Wind</th>\n",
       "      <th>Pres</th>\n",
       "      <th>Movement</th>\n",
       "      <th>Type</th>\n",
       "      <th>Name</th>\n",
       "      <th>Received</th>\n",
       "      <th>Forecaster</th>\n",
       "      <th>coordinates</th>\n",
       "    </tr>\n",
       "  </thead>\n",
       "  <tbody>\n",
       "    <tr>\n",
       "      <th>0</th>\n",
       "      <td>1</td>\n",
       "      <td>10/6/2018 17:00</td>\n",
       "      <td>18.0</td>\n",
       "      <td>-86.6</td>\n",
       "      <td>30</td>\n",
       "      <td>1006</td>\n",
       "      <td>NW at 6 MPH (325 deg)</td>\n",
       "      <td>Potential Tropical Cyclone</td>\n",
       "      <td>Fourteen</td>\n",
       "      <td>10/6/2018 16:50</td>\n",
       "      <td>Beven</td>\n",
       "      <td>POINT (-86.59999999999999 18)</td>\n",
       "    </tr>\n",
       "    <tr>\n",
       "      <th>1</th>\n",
       "      <td>1A</td>\n",
       "      <td>10/6/2018 20:00</td>\n",
       "      <td>18.3</td>\n",
       "      <td>-86.6</td>\n",
       "      <td>30</td>\n",
       "      <td>1004</td>\n",
       "      <td>N at 6 MPH (360 deg)</td>\n",
       "      <td>Potential Tropical Cyclone</td>\n",
       "      <td>Fourteen</td>\n",
       "      <td>10/6/2018 19:32</td>\n",
       "      <td>Avila</td>\n",
       "      <td>POINT (-86.59999999999999 18.3)</td>\n",
       "    </tr>\n",
       "    <tr>\n",
       "      <th>2</th>\n",
       "      <td>2</td>\n",
       "      <td>10/6/2018 23:00</td>\n",
       "      <td>18.8</td>\n",
       "      <td>-86.6</td>\n",
       "      <td>30</td>\n",
       "      <td>1004</td>\n",
       "      <td>N at 7 MPH (360 deg)</td>\n",
       "      <td>Potential Tropical Cyclone</td>\n",
       "      <td>Fourteen</td>\n",
       "      <td>10/6/2018 22:38</td>\n",
       "      <td>Avila</td>\n",
       "      <td>POINT (-86.59999999999999 18.8)</td>\n",
       "    </tr>\n",
       "    <tr>\n",
       "      <th>3</th>\n",
       "      <td>2A</td>\n",
       "      <td>10/7/2018 2:00</td>\n",
       "      <td>18.4</td>\n",
       "      <td>-87.1</td>\n",
       "      <td>35</td>\n",
       "      <td>1004</td>\n",
       "      <td>NW at 5 MPH (320 deg)</td>\n",
       "      <td>Potential Tropical Cyclone</td>\n",
       "      <td>Fourteen</td>\n",
       "      <td>10/7/2018 1:38</td>\n",
       "      <td>Berg</td>\n",
       "      <td>POINT (-87.09999999999999 18.4)</td>\n",
       "    </tr>\n",
       "    <tr>\n",
       "      <th>4</th>\n",
       "      <td>3</td>\n",
       "      <td>10/7/2018 5:00</td>\n",
       "      <td>18.6</td>\n",
       "      <td>-86.9</td>\n",
       "      <td>35</td>\n",
       "      <td>1004</td>\n",
       "      <td>NNW at 3 MPH (340 deg)</td>\n",
       "      <td>Tropical Depression</td>\n",
       "      <td>FOURTEEN</td>\n",
       "      <td>10/7/2018 4:53</td>\n",
       "      <td>Berg</td>\n",
       "      <td>POINT (-86.90000000000001 18.6)</td>\n",
       "    </tr>\n",
       "  </tbody>\n",
       "</table>\n",
       "</div>"
      ],
      "text/plain": [
       "  AdvisoryNumber             Date   Lat  Long  Wind  Pres  \\\n",
       "0              1  10/6/2018 17:00  18.0 -86.6    30  1006   \n",
       "1             1A  10/6/2018 20:00  18.3 -86.6    30  1004   \n",
       "2              2  10/6/2018 23:00  18.8 -86.6    30  1004   \n",
       "3             2A   10/7/2018 2:00  18.4 -87.1    35  1004   \n",
       "4              3   10/7/2018 5:00  18.6 -86.9    35  1004   \n",
       "\n",
       "                 Movement                        Type      Name  \\\n",
       "0   NW at 6 MPH (325 deg)  Potential Tropical Cyclone  Fourteen   \n",
       "1    N at 6 MPH (360 deg)  Potential Tropical Cyclone  Fourteen   \n",
       "2    N at 7 MPH (360 deg)  Potential Tropical Cyclone  Fourteen   \n",
       "3   NW at 5 MPH (320 deg)  Potential Tropical Cyclone  Fourteen   \n",
       "4  NNW at 3 MPH (340 deg)         Tropical Depression  FOURTEEN   \n",
       "\n",
       "          Received Forecaster                      coordinates  \n",
       "0  10/6/2018 16:50      Beven    POINT (-86.59999999999999 18)  \n",
       "1  10/6/2018 19:32      Avila  POINT (-86.59999999999999 18.3)  \n",
       "2  10/6/2018 22:38      Avila  POINT (-86.59999999999999 18.8)  \n",
       "3   10/7/2018 1:38       Berg  POINT (-87.09999999999999 18.4)  \n",
       "4   10/7/2018 4:53       Berg  POINT (-86.90000000000001 18.6)  "
      ]
     },
     "execution_count": 15,
     "metadata": {},
     "output_type": "execute_result"
    }
   ],
   "source": [
    "HM_df.head()"
   ]
  },
  {
   "cell_type": "code",
   "execution_count": 17,
   "metadata": {},
   "outputs": [
    {
     "data": {
      "text/plain": [
       "pandas.core.series.Series"
      ]
     },
     "execution_count": 17,
     "metadata": {},
     "output_type": "execute_result"
    }
   ],
   "source": [
    "#verify the coordinate column is geolocation data type\n",
    "type(HM_df['coordinates'])"
   ]
  },
  {
   "cell_type": "code",
   "execution_count": 18,
   "metadata": {},
   "outputs": [
    {
     "data": {
      "text/plain": [
       "dtype('O')"
      ]
     },
     "execution_count": 18,
     "metadata": {},
     "output_type": "execute_result"
    }
   ],
   "source": [
    "HM_df['coordinates'].dtypes"
   ]
  },
  {
   "cell_type": "code",
   "execution_count": 19,
   "metadata": {},
   "outputs": [],
   "source": [
    "##create a geolocation dataframe type using the coordinates column as the geolocation data\n",
    "geo_HM = gpd.GeoDataFrame(HM_df, geometry = 'coordinates')"
   ]
  },
  {
   "cell_type": "code",
   "execution_count": 21,
   "metadata": {},
   "outputs": [
    {
     "data": {
      "text/html": [
       "<div>\n",
       "<style scoped>\n",
       "    .dataframe tbody tr th:only-of-type {\n",
       "        vertical-align: middle;\n",
       "    }\n",
       "\n",
       "    .dataframe tbody tr th {\n",
       "        vertical-align: top;\n",
       "    }\n",
       "\n",
       "    .dataframe thead th {\n",
       "        text-align: right;\n",
       "    }\n",
       "</style>\n",
       "<table border=\"1\" class=\"dataframe\">\n",
       "  <thead>\n",
       "    <tr style=\"text-align: right;\">\n",
       "      <th></th>\n",
       "      <th>AdvisoryNumber</th>\n",
       "      <th>Date</th>\n",
       "      <th>Lat</th>\n",
       "      <th>Long</th>\n",
       "      <th>Wind</th>\n",
       "      <th>Pres</th>\n",
       "      <th>Movement</th>\n",
       "      <th>Type</th>\n",
       "      <th>Name</th>\n",
       "      <th>Received</th>\n",
       "      <th>Forecaster</th>\n",
       "      <th>coordinates</th>\n",
       "    </tr>\n",
       "  </thead>\n",
       "  <tbody>\n",
       "    <tr>\n",
       "      <th>0</th>\n",
       "      <td>1</td>\n",
       "      <td>10/6/2018 17:00</td>\n",
       "      <td>18.0</td>\n",
       "      <td>-86.6</td>\n",
       "      <td>30</td>\n",
       "      <td>1006</td>\n",
       "      <td>NW at 6 MPH (325 deg)</td>\n",
       "      <td>Potential Tropical Cyclone</td>\n",
       "      <td>Fourteen</td>\n",
       "      <td>10/6/2018 16:50</td>\n",
       "      <td>Beven</td>\n",
       "      <td>POINT (-86.60000 18.00000)</td>\n",
       "    </tr>\n",
       "    <tr>\n",
       "      <th>1</th>\n",
       "      <td>1A</td>\n",
       "      <td>10/6/2018 20:00</td>\n",
       "      <td>18.3</td>\n",
       "      <td>-86.6</td>\n",
       "      <td>30</td>\n",
       "      <td>1004</td>\n",
       "      <td>N at 6 MPH (360 deg)</td>\n",
       "      <td>Potential Tropical Cyclone</td>\n",
       "      <td>Fourteen</td>\n",
       "      <td>10/6/2018 19:32</td>\n",
       "      <td>Avila</td>\n",
       "      <td>POINT (-86.60000 18.30000)</td>\n",
       "    </tr>\n",
       "    <tr>\n",
       "      <th>2</th>\n",
       "      <td>2</td>\n",
       "      <td>10/6/2018 23:00</td>\n",
       "      <td>18.8</td>\n",
       "      <td>-86.6</td>\n",
       "      <td>30</td>\n",
       "      <td>1004</td>\n",
       "      <td>N at 7 MPH (360 deg)</td>\n",
       "      <td>Potential Tropical Cyclone</td>\n",
       "      <td>Fourteen</td>\n",
       "      <td>10/6/2018 22:38</td>\n",
       "      <td>Avila</td>\n",
       "      <td>POINT (-86.60000 18.80000)</td>\n",
       "    </tr>\n",
       "    <tr>\n",
       "      <th>3</th>\n",
       "      <td>2A</td>\n",
       "      <td>10/7/2018 2:00</td>\n",
       "      <td>18.4</td>\n",
       "      <td>-87.1</td>\n",
       "      <td>35</td>\n",
       "      <td>1004</td>\n",
       "      <td>NW at 5 MPH (320 deg)</td>\n",
       "      <td>Potential Tropical Cyclone</td>\n",
       "      <td>Fourteen</td>\n",
       "      <td>10/7/2018 1:38</td>\n",
       "      <td>Berg</td>\n",
       "      <td>POINT (-87.10000 18.40000)</td>\n",
       "    </tr>\n",
       "    <tr>\n",
       "      <th>4</th>\n",
       "      <td>3</td>\n",
       "      <td>10/7/2018 5:00</td>\n",
       "      <td>18.6</td>\n",
       "      <td>-86.9</td>\n",
       "      <td>35</td>\n",
       "      <td>1004</td>\n",
       "      <td>NNW at 3 MPH (340 deg)</td>\n",
       "      <td>Tropical Depression</td>\n",
       "      <td>FOURTEEN</td>\n",
       "      <td>10/7/2018 4:53</td>\n",
       "      <td>Berg</td>\n",
       "      <td>POINT (-86.90000 18.60000)</td>\n",
       "    </tr>\n",
       "  </tbody>\n",
       "</table>\n",
       "</div>"
      ],
      "text/plain": [
       "  AdvisoryNumber             Date   Lat  Long  Wind  Pres  \\\n",
       "0              1  10/6/2018 17:00  18.0 -86.6    30  1006   \n",
       "1             1A  10/6/2018 20:00  18.3 -86.6    30  1004   \n",
       "2              2  10/6/2018 23:00  18.8 -86.6    30  1004   \n",
       "3             2A   10/7/2018 2:00  18.4 -87.1    35  1004   \n",
       "4              3   10/7/2018 5:00  18.6 -86.9    35  1004   \n",
       "\n",
       "                 Movement                        Type      Name  \\\n",
       "0   NW at 6 MPH (325 deg)  Potential Tropical Cyclone  Fourteen   \n",
       "1    N at 6 MPH (360 deg)  Potential Tropical Cyclone  Fourteen   \n",
       "2    N at 7 MPH (360 deg)  Potential Tropical Cyclone  Fourteen   \n",
       "3   NW at 5 MPH (320 deg)  Potential Tropical Cyclone  Fourteen   \n",
       "4  NNW at 3 MPH (340 deg)         Tropical Depression  FOURTEEN   \n",
       "\n",
       "          Received Forecaster                 coordinates  \n",
       "0  10/6/2018 16:50      Beven  POINT (-86.60000 18.00000)  \n",
       "1  10/6/2018 19:32      Avila  POINT (-86.60000 18.30000)  \n",
       "2  10/6/2018 22:38      Avila  POINT (-86.60000 18.80000)  \n",
       "3   10/7/2018 1:38       Berg  POINT (-87.10000 18.40000)  \n",
       "4   10/7/2018 4:53       Berg  POINT (-86.90000 18.60000)  "
      ]
     },
     "execution_count": 21,
     "metadata": {},
     "output_type": "execute_result"
    }
   ],
   "source": [
    "geo_HM.head() #geo dataframe looks the same as regular dataframe"
   ]
  },
  {
   "cell_type": "code",
   "execution_count": 22,
   "metadata": {},
   "outputs": [
    {
     "data": {
      "text/plain": [
       "geopandas.geoseries.GeoSeries"
      ]
     },
     "execution_count": 22,
     "metadata": {},
     "output_type": "execute_result"
    }
   ],
   "source": [
    "type(geo_HM['coordinates'])"
   ]
  },
  {
   "cell_type": "code",
   "execution_count": 24,
   "metadata": {},
   "outputs": [
    {
     "data": {
      "text/plain": [
       "<geopandas.array.GeometryDtype at 0x2109425ef60>"
      ]
     },
     "execution_count": 24,
     "metadata": {},
     "output_type": "execute_result"
    }
   ],
   "source": [
    "geo_HM['coordinates'].dtype"
   ]
  },
  {
   "cell_type": "code",
   "execution_count": 25,
   "metadata": {},
   "outputs": [],
   "source": [
    "#import file that contains a world map shape polygons\n",
    "\n",
    "filepath = \"C:/Users/GBTC441002ur/Documents/Adv_DataAnalytics/datasets/US_states(5m).json\""
   ]
  },
  {
   "cell_type": "code",
   "execution_count": 26,
   "metadata": {},
   "outputs": [
    {
     "data": {
      "text/html": [
       "<div>\n",
       "<style scoped>\n",
       "    .dataframe tbody tr th:only-of-type {\n",
       "        vertical-align: middle;\n",
       "    }\n",
       "\n",
       "    .dataframe tbody tr th {\n",
       "        vertical-align: top;\n",
       "    }\n",
       "\n",
       "    .dataframe thead th {\n",
       "        text-align: right;\n",
       "    }\n",
       "</style>\n",
       "<table border=\"1\" class=\"dataframe\">\n",
       "  <thead>\n",
       "    <tr style=\"text-align: right;\">\n",
       "      <th></th>\n",
       "      <th>GEO_ID</th>\n",
       "      <th>STATE</th>\n",
       "      <th>NAME</th>\n",
       "      <th>LSAD</th>\n",
       "      <th>CENSUSAREA</th>\n",
       "      <th>geometry</th>\n",
       "    </tr>\n",
       "  </thead>\n",
       "  <tbody>\n",
       "    <tr>\n",
       "      <th>0</th>\n",
       "      <td>0400000US01</td>\n",
       "      <td>01</td>\n",
       "      <td>Alabama</td>\n",
       "      <td></td>\n",
       "      <td>50645.326</td>\n",
       "      <td>MULTIPOLYGON (((-88.12466 30.28364, -88.08681 ...</td>\n",
       "    </tr>\n",
       "    <tr>\n",
       "      <th>1</th>\n",
       "      <td>0400000US02</td>\n",
       "      <td>02</td>\n",
       "      <td>Alaska</td>\n",
       "      <td></td>\n",
       "      <td>570640.950</td>\n",
       "      <td>MULTIPOLYGON (((-166.10574 53.98861, -166.0752...</td>\n",
       "    </tr>\n",
       "    <tr>\n",
       "      <th>2</th>\n",
       "      <td>0400000US04</td>\n",
       "      <td>04</td>\n",
       "      <td>Arizona</td>\n",
       "      <td></td>\n",
       "      <td>113594.084</td>\n",
       "      <td>POLYGON ((-112.53859 37.00067, -112.53454 37.0...</td>\n",
       "    </tr>\n",
       "    <tr>\n",
       "      <th>3</th>\n",
       "      <td>0400000US05</td>\n",
       "      <td>05</td>\n",
       "      <td>Arkansas</td>\n",
       "      <td></td>\n",
       "      <td>52035.477</td>\n",
       "      <td>POLYGON ((-94.04296 33.01922, -94.04304 33.079...</td>\n",
       "    </tr>\n",
       "    <tr>\n",
       "      <th>4</th>\n",
       "      <td>0400000US06</td>\n",
       "      <td>06</td>\n",
       "      <td>California</td>\n",
       "      <td></td>\n",
       "      <td>155779.220</td>\n",
       "      <td>MULTIPOLYGON (((-122.42144 37.86997, -122.4213...</td>\n",
       "    </tr>\n",
       "  </tbody>\n",
       "</table>\n",
       "</div>"
      ],
      "text/plain": [
       "        GEO_ID STATE        NAME LSAD  CENSUSAREA  \\\n",
       "0  0400000US01    01     Alabama        50645.326   \n",
       "1  0400000US02    02      Alaska       570640.950   \n",
       "2  0400000US04    04     Arizona       113594.084   \n",
       "3  0400000US05    05    Arkansas        52035.477   \n",
       "4  0400000US06    06  California       155779.220   \n",
       "\n",
       "                                            geometry  \n",
       "0  MULTIPOLYGON (((-88.12466 30.28364, -88.08681 ...  \n",
       "1  MULTIPOLYGON (((-166.10574 53.98861, -166.0752...  \n",
       "2  POLYGON ((-112.53859 37.00067, -112.53454 37.0...  \n",
       "3  POLYGON ((-94.04296 33.01922, -94.04304 33.079...  \n",
       "4  MULTIPOLYGON (((-122.42144 37.86997, -122.4213...  "
      ]
     },
     "execution_count": 26,
     "metadata": {},
     "output_type": "execute_result"
    }
   ],
   "source": [
    "#data contains polygon shape coordinates for different map body types \n",
    "map_df = gpd.read_file(filepath)\n",
    "map_df.head()"
   ]
  },
  {
   "cell_type": "code",
   "execution_count": 27,
   "metadata": {
    "scrolled": true
   },
   "outputs": [
    {
     "data": {
      "text/plain": [
       "<matplotlib.axes._subplots.AxesSubplot at 0x210952a8710>"
      ]
     },
     "execution_count": 27,
     "metadata": {},
     "output_type": "execute_result"
    },
    {
     "data": {
      "image/png": "[encoded data removed]",
      "text/plain": [
       "<Figure size 432x288 with 1 Axes>"
      ]
     },
     "metadata": {
      "needs_background": "light"
     },
     "output_type": "display_data"
    }
   ],
   "source": [
    "#map graph\n",
    "map_df.plot()"
   ]
  },
  {
   "cell_type": "code",
   "execution_count": 30,
   "metadata": {},
   "outputs": [],
   "source": [
    "map48 = map_df.loc[map_df['NAME'].isin(['Alaska', 'Hawaii', 'Puerto Rico']) == False]"
   ]
  },
  {
   "cell_type": "code",
   "execution_count": 33,
   "metadata": {},
   "outputs": [
    {
     "data": {
      "text/plain": [
       "<matplotlib.axes._subplots.AxesSubplot at 0x210965dde80>"
      ]
     },
     "execution_count": 33,
     "metadata": {},
     "output_type": "execute_result"
    },
    {
     "data": {
      "image/png": "[encoded data removed]",
      "text/plain": [
       "<Figure size 432x288 with 1 Axes>"
      ]
     },
     "metadata": {
      "needs_background": "light"
     },
     "output_type": "display_data"
    }
   ],
   "source": [
    "map48.plot()"
   ]
  },
  {
   "cell_type": "code",
   "execution_count": 31,
   "metadata": {},
   "outputs": [
    {
     "data": {
      "text/plain": [
       "<matplotlib.axes._subplots.AxesSubplot at 0x210964b5fd0>"
      ]
     },
     "execution_count": 31,
     "metadata": {},
     "output_type": "execute_result"
    },
    {
     "data": {
      "image/png": "[encoded data removed]",
      "text/plain": [
       "<Figure size 432x288 with 1 Axes>"
      ]
     },
     "metadata": {
      "needs_background": "light"
     },
     "output_type": "display_data"
    }
   ],
   "source": [
    "geo_HM.plot()"
   ]
  },
  {
   "cell_type": "code",
   "execution_count": 36,
   "metadata": {},
   "outputs": [
    {
     "data": {
      "text/plain": [
       "Text(0.5, 1.0, 'Hurricane Michael Path')"
      ]
     },
     "execution_count": 36,
     "metadata": {},
     "output_type": "execute_result"
    },
    {
     "data": {
      "image/png": "[encoded data removed]",
      "text/plain": [
       "<Figure size 1080x720 with 1 Axes>"
      ]
     },
     "metadata": {
      "needs_background": "light"
     },
     "output_type": "display_data"
    }
   ],
   "source": [
    "#plot coordinates on top of the map graph\n",
    "\n",
    "#set the size of the borders\n",
    "fig, ax = plt.subplots(1, figsize=(15,10))\n",
    "\n",
    "#map\n",
    "basemap = map48.plot(ax=ax)\n",
    "\n",
    "#plot coordinates on top of map graph\n",
    "geo_HM.plot(ax=basemap, color='darkred', marker=\".\", markersize=15)\n",
    "\n",
    "#take off axis numbers\n",
    "ax.axis('off')\n",
    "\n",
    "#put title on map\n",
    "ax.set_title(\"Hurricane Michael Path\", fontsize=25, fontweight=3)"
   ]
  }
 ],
 "metadata": {
  "kernelspec": {
   "display_name": "Python 3",
   "language": "python",
   "name": "python3"
  },
  "language_info": {
   "codemirror_mode": {
    "name": "ipython",
    "version": 3
   },
   "file_extension": ".py",
   "mimetype": "text/x-python",
   "name": "python",
   "nbconvert_exporter": "python",
   "pygments_lexer": "ipython3",
   "version": "3.7.3"
  }
 },
 "nbformat": 4,
 "nbformat_minor": 2
}
